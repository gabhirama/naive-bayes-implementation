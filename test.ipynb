{
 "cells": [
  {
   "cell_type": "code",
   "execution_count": 6,
   "id": "40edebee",
   "metadata": {},
   "outputs": [
    {
     "name": "stdout",
     "output_type": "stream",
     "text": [
      "Please visit this URL to authorize this application: https://accounts.google.com/o/oauth2/auth?response_type=code&client_id=628982370333-kkqj66e4850ij5qm0nr2l4b6a514s23e.apps.googleusercontent.com&redirect_uri=http%3A%2F%2Flocalhost%3A8080%2F&scope=https%3A%2F%2Fwww.googleapis.com%2Fauth%2Fgmail.readonly&state=aIY7xURTOwJZHIqpoyraHKM0n5x3q7&access_type=offline\n",
      "Found 16 spam messages and 100 ham messages.\n"
     ]
    }
   ],
   "source": [
    "from src.gmail_api import fetch_spam_and_ham\n",
    "import os\n",
    "import math\n",
    "\n",
    "if os.path.exists('token.json'):\n",
    "    os.remove('token.json')\n",
    "    spam_mails, ham_mails = fetch_spam_and_ham(100)\n",
    "else:\n",
    "    spam_mails, ham_mails = fetch_spam_and_ham(100)"
   ]
  },
  {
   "cell_type": "markdown",
   "id": "71dbbe05",
   "metadata": {},
   "source": [
    "## Implementation 1"
   ]
  },
  {
   "cell_type": "code",
   "execution_count": 4,
   "id": "e3a03042",
   "metadata": {},
   "outputs": [
    {
     "name": "stdout",
     "output_type": "stream",
     "text": [
      "Type of ham and spam mails: <class 'dict'>\n"
     ]
    }
   ],
   "source": [
    "print(f\"Type of ham and spam mails: {type(spam_mails)}\")"
   ]
  },
  {
   "cell_type": "code",
   "execution_count": 7,
   "id": "a2a143e8",
   "metadata": {},
   "outputs": [
    {
     "name": "stdout",
     "output_type": "stream",
     "text": [
      "Number of spam mails: 9\n",
      "Number of ham mails: 75\n"
     ]
    }
   ],
   "source": [
    "spam_mails = {msg_id: metadata for msg_id, metadata in spam_mails.items() if metadata['content'] != ''}\n",
    "ham_mails = {msg_id: metadata for msg_id, metadata in ham_mails.items() if metadata['content'] != ''}\n",
    "\n",
    "print(f\"Number of spam mails: {len(spam_mails)}\")\n",
    "print(f\"Number of ham mails: {len(ham_mails)}\")"
   ]
  },
  {
   "cell_type": "code",
   "execution_count": 8,
   "id": "432cca3b",
   "metadata": {},
   "outputs": [
    {
     "name": "stdout",
     "output_type": "stream",
     "text": [
      "Probability of spam: 0.10714285714285714\n",
      "Probability of ham: 0.8928571428571429\n"
     ]
    }
   ],
   "source": [
    "p_spam = len(spam_mails)/(len(spam_mails) + len(ham_mails))\n",
    "p_ham = len(ham_mails)/(len(spam_mails) + len(ham_mails))\n",
    "print(f\"Probability of spam: {p_spam}\")\n",
    "print(f\"Probability of ham: {p_ham}\")"
   ]
  },
  {
   "cell_type": "code",
   "execution_count": 9,
   "id": "e775adee",
   "metadata": {},
   "outputs": [],
   "source": [
    "spam_iterator = list(spam_mails.items())\n",
    "ham_iterator = list(ham_mails.items())"
   ]
  },
  {
   "cell_type": "code",
   "execution_count": 10,
   "id": "6ff385c7",
   "metadata": {},
   "outputs": [],
   "source": [
    "from collections import Counter\n",
    "\n",
    "spam_word_dict = {}\n",
    "ham_word_dict = {}\n",
    "\n",
    "spam_word_dict = dict(Counter(\n",
    "    word.lower()\n",
    "    for _, metadata_dict in spam_iterator\n",
    "    for word in metadata_dict['content'].split()\n",
    "))\n",
    "\n",
    "ham_word_dict = dict(Counter(\n",
    "    word.lower()\n",
    "    for _, metadata_dict in ham_iterator\n",
    "    for word in metadata_dict['content'].split()\n",
    "))"
   ]
  },
  {
   "cell_type": "code",
   "execution_count": 11,
   "id": "d2bb0222",
   "metadata": {},
   "outputs": [],
   "source": [
    "spam_word_count = dict(sorted(spam_word_dict.items(), key=lambda x: x[1], reverse=True))\n",
    "ham_word_count = dict(sorted(ham_word_dict.items(), key=lambda x: x[1], reverse=True))"
   ]
  },
  {
   "cell_type": "code",
   "execution_count": 12,
   "id": "9e20cfec",
   "metadata": {},
   "outputs": [
    {
     "name": "stdout",
     "output_type": "stream",
     "text": [
      "Total words in spam: 8756\n",
      "Total words in ham: 43874\n",
      "Vocabulary size (Unique words only from each set of Ham and Spam): 9928\n"
     ]
    }
   ],
   "source": [
    "total_words_in_spam = sum(spam_word_count.values())\n",
    "total_words_in_ham = sum(ham_word_count.values())\n",
    "vocab = set(list(spam_word_count.keys()) + list(ham_word_count.keys()))\n",
    "vocab_size = len(vocab)\n",
    "print(f\"Total words in spam: {total_words_in_spam}\")\n",
    "print(f\"Total words in ham: {total_words_in_ham}\")\n",
    "print(f\"Vocabulary size (Unique words only from each set of Ham and Spam): {len(vocab)}\")"
   ]
  },
  {
   "cell_type": "code",
   "execution_count": 13,
   "id": "b89b63b5",
   "metadata": {},
   "outputs": [],
   "source": [
    "laplace_smoothing_factor = 1\n",
    "epsilon = 1e-10"
   ]
  },
  {
   "cell_type": "code",
   "execution_count": 14,
   "id": "9eccf5cb",
   "metadata": {},
   "outputs": [],
   "source": [
    "class TFNaiveBayesClassifier:\n",
    "    def __init__(self, spam_word_count, ham_word_count, p_spam, p_ham, total_words_in_spam, total_words_in_ham, vocab_size, laplace_smoothing_factor):\n",
    "        self.spam_word_count = spam_word_count\n",
    "        self.ham_word_count = ham_word_count\n",
    "        self.p_spam = p_spam\n",
    "        self.p_ham = p_ham\n",
    "        self.total_words_in_spam = total_words_in_spam\n",
    "        self.total_words_in_ham = total_words_in_ham\n",
    "        self.vocab_size = vocab_size\n",
    "        self.laplace_smoothing_factor = laplace_smoothing_factor\n",
    "    \n",
    "    def get_word_probability(self,word,class_word_count_dict,total_words_in_class):\n",
    "        \"\"\"Calculate the P(word|Class) with laplace smoothing\"\"\"\n",
    "        word_count = class_word_count_dict.get(word, 0)\n",
    "        probability = (word_count + self.laplace_smoothing_factor)/(total_words_in_class + self.laplace_smoothing_factor*self.vocab_size)\n",
    "        return probability\n",
    "    \n",
    "    def get_word_probability_total(self, word):\n",
    "        \"\"\"Calculate the P(word) occuring in the training set (with laplace smoothing)\"\"\"\n",
    "        spam_probability = self.get_word_probability(word, self.spam_word_count, self.total_words_in_spam)\n",
    "        ham_probability = self.get_word_probability(word, self.ham_word_count, self.total_words_in_ham)\n",
    "        return spam_probability*self.p_spam + ham_probability*self.p_ham\n",
    "    \n",
    "    def classification_probability(self, email_content):\n",
    "        \"\"\"Classify the email content as spam or ham\"\"\"\n",
    "        words = email_content.lower().split()\n",
    "        \n",
    "        # probability_spam_given_words = self.p_spam\n",
    "        # probability_ham_given_words = self.p_ham\n",
    "        \n",
    "        log_probability_spam = math.log(self.p_spam)\n",
    "        log_probability_ham = math.log(self.p_ham)\n",
    "        \n",
    "        for word in words:\n",
    "            probability_word_given_spam = self.get_word_probability(word,self.spam_word_count,self.total_words_in_spam)\n",
    "            probability_word_given_ham = self.get_word_probability(word,self.ham_word_count,self.total_words_in_ham)\n",
    "            \n",
    "            # probability_spam_given_words *= probability_word_given_spam\n",
    "            # probability_ham_given_words *= probability_word_given_ham\n",
    "            \n",
    "            log_probability_spam += math.log(probability_word_given_spam)\n",
    "            log_probability_ham += math.log(probability_word_given_ham)\n",
    "            \n",
    "        # Normalize the probabilities\n",
    "        # total_probability = probability_spam_given_words + probability_ham_given_words\n",
    "        max_log_probability = max(log_probability_spam, log_probability_ham)\n",
    "        \n",
    "        log_probability_spam -= max_log_probability\n",
    "        log_probability_ham -= max_log_probability\n",
    "        probability_spam_given_words = math.exp(log_probability_spam)\n",
    "        probability_ham_given_words = math.exp(log_probability_ham)\n",
    "        \n",
    "        total_probability = probability_spam_given_words + probability_ham_given_words\n",
    "        \n",
    "        #Final probabilities\n",
    "        probability_spam_given_words /= total_probability\n",
    "        probability_ham_given_words /= total_probability\n",
    "        \n",
    "        return {\n",
    "            'spam_probability': probability_spam_given_words,\n",
    "            'ham_probability': probability_ham_given_words\n",
    "        }\n",
    "        \n",
    "    def classify(self, email_content):\n",
    "        \"\"\"Classify the email content as spam or ham\"\"\"\n",
    "        probabilities = self.classification_probability(email_content)\n",
    "        if probabilities['spam_probability'] > probabilities['ham_probability']:\n",
    "            return 'spam'\n",
    "        else:\n",
    "            return 'ham'"
   ]
  },
  {
   "cell_type": "code",
   "execution_count": 15,
   "id": "18a52880",
   "metadata": {},
   "outputs": [],
   "source": [
    "custom_classifier = TFNaiveBayesClassifier(spam_word_count, ham_word_count, p_spam, p_ham, total_words_in_spam, total_words_in_ham, vocab_size, laplace_smoothing_factor=1)"
   ]
  },
  {
   "cell_type": "code",
   "execution_count": 16,
   "id": "97c2b4c5",
   "metadata": {},
   "outputs": [
    {
     "name": "stdout",
     "output_type": "stream",
     "text": [
      "Message ID: 197b7a3cac8ab5f9, Classification: spam, Probabilities: 1.0000 (spam), 0.0000 (ham)\n",
      "Message ID: 197ad02fb929f34f, Classification: spam, Probabilities: 1.0000 (spam), 0.0000 (ham)\n",
      "Message ID: 1977c01f5cb0dd2e, Classification: spam, Probabilities: 1.0000 (spam), 0.0000 (ham)\n",
      "Message ID: 19779781bb917411, Classification: spam, Probabilities: 1.0000 (spam), 0.0000 (ham)\n",
      "Message ID: 19768ccac149dafb, Classification: spam, Probabilities: 1.0000 (spam), 0.0000 (ham)\n",
      "Message ID: 19766868856ed1d5, Classification: spam, Probabilities: 1.0000 (spam), 0.0000 (ham)\n",
      "Message ID: 1974346a02e839a8, Classification: spam, Probabilities: 1.0000 (spam), 0.0000 (ham)\n",
      "Message ID: 19734207a456b7dd, Classification: spam, Probabilities: 1.0000 (spam), 0.0000 (ham)\n",
      "Message ID: 197306ab16c6c557, Classification: spam, Probabilities: 1.0000 (spam), 0.0000 (ham)\n"
     ]
    }
   ],
   "source": [
    "for msg_id, metadata in list(spam_iterator):\n",
    "    classification = custom_classifier.classify(metadata['content'])\n",
    "    classification_probabilities = custom_classifier.classification_probability(metadata['content'])\n",
    "    print(f\"Message ID: {msg_id}, Classification: {classification}, Probabilities: {classification_probabilities['spam_probability']:.4f} (spam), {classification_probabilities['ham_probability']:.4f} (ham)\")\n",
    "    if classification != 'spam':\n",
    "        print(f\"False negative detected: {msg_id} classified as {classification}\")"
   ]
  },
  {
   "cell_type": "code",
   "execution_count": 27,
   "id": "2bbc215a",
   "metadata": {},
   "outputs": [
    {
     "name": "stdout",
     "output_type": "stream",
     "text": [
      "Message ID: 197bca55d72ab5ff, Classification: ham, Probabilities: {'spam_probability': 0.005955513964599366, 'ham_probability': 0.9940444860354006}\n",
      "Message ID: 197bb484ec145cb4, Classification: ham, Probabilities: {'spam_probability': 1.5554861892973933e-86, 'ham_probability': 1.0}\n",
      "Message ID: 197bb2b187253e32, Classification: ham, Probabilities: {'spam_probability': 0.005955513964599366, 'ham_probability': 0.9940444860354006}\n",
      "Message ID: 197badd0831731d3, Classification: ham, Probabilities: {'spam_probability': 2.231839129424329e-128, 'ham_probability': 1.0}\n",
      "Message ID: 197b9fc7b3bda8ba, Classification: ham, Probabilities: {'spam_probability': 1.1095097183049564e-103, 'ham_probability': 1.0}\n",
      "Message ID: 197b8586de386758, Classification: ham, Probabilities: {'spam_probability': 1.310097505425835e-14, 'ham_probability': 0.9999999999999869}\n",
      "Message ID: 197b75ebae33ad9b, Classification: ham, Probabilities: {'spam_probability': 6.167606650688457e-50, 'ham_probability': 1.0}\n",
      "Message ID: 197b6db99fe9a86b, Classification: ham, Probabilities: {'spam_probability': 2.662343548157856e-19, 'ham_probability': 1.0}\n",
      "Message ID: 197b5fb821bd23d3, Classification: ham, Probabilities: {'spam_probability': 2.0151513691846413e-128, 'ham_probability': 1.0}\n",
      "Message ID: 197b5e0e1753142a, Classification: ham, Probabilities: {'spam_probability': 7.33344571945826e-75, 'ham_probability': 1.0}\n",
      "Message ID: 197b4d65ba4e5c42, Classification: ham, Probabilities: {'spam_probability': 7.680303802004693e-102, 'ham_probability': 1.0}\n",
      "Message ID: 197b48aecce5ee31, Classification: ham, Probabilities: {'spam_probability': 0.0, 'ham_probability': 1.0}\n",
      "Message ID: 197b45b15abccc5d, Classification: ham, Probabilities: {'spam_probability': 1.6747062986153777e-38, 'ham_probability': 1.0}\n",
      "Message ID: 197b2d45995fc756, Classification: ham, Probabilities: {'spam_probability': 3.0701179905491725e-41, 'ham_probability': 1.0}\n",
      "Message ID: 197b28cf5dfd74d4, Classification: ham, Probabilities: {'spam_probability': 1.7209788642715149e-41, 'ham_probability': 1.0}\n",
      "Message ID: 197b1c6d2fd59a68, Classification: ham, Probabilities: {'spam_probability': 9.898495941294987e-66, 'ham_probability': 1.0}\n",
      "Message ID: 197b18c4a499a02b, Classification: ham, Probabilities: {'spam_probability': 5.4873758052146947e-73, 'ham_probability': 1.0}\n",
      "Message ID: 197b1793dad4a88c, Classification: ham, Probabilities: {'spam_probability': 2.746426696364553e-222, 'ham_probability': 1.0}\n",
      "Message ID: 197b110ff274d068, Classification: ham, Probabilities: {'spam_probability': 7.829416282618005e-11, 'ham_probability': 0.9999999999217057}\n",
      "Message ID: 197b0d60f89959bf, Classification: ham, Probabilities: {'spam_probability': 7.10572662398824e-49, 'ham_probability': 1.0}\n",
      "Message ID: 197b0b83e83f759d, Classification: ham, Probabilities: {'spam_probability': 2.805110247817509e-31, 'ham_probability': 1.0}\n",
      "Message ID: 197b068726683645, Classification: ham, Probabilities: {'spam_probability': 0.0, 'ham_probability': 1.0}\n",
      "Message ID: 197b00cfaf7017f1, Classification: ham, Probabilities: {'spam_probability': 0.0, 'ham_probability': 1.0}\n",
      "Message ID: 197b00c17e17e0cc, Classification: ham, Probabilities: {'spam_probability': 0.0, 'ham_probability': 1.0}\n",
      "Message ID: 197afafb68761a50, Classification: ham, Probabilities: {'spam_probability': 1.072712270624253e-91, 'ham_probability': 1.0}\n",
      "Message ID: 197af6f6be50fc3b, Classification: ham, Probabilities: {'spam_probability': 1.782590479597328e-81, 'ham_probability': 1.0}\n",
      "Message ID: 197ae2827dc9cf13, Classification: ham, Probabilities: {'spam_probability': 1.652896795923948e-41, 'ham_probability': 1.0}\n",
      "Message ID: 197ae14514dbb24b, Classification: ham, Probabilities: {'spam_probability': 1.3392450125133178e-89, 'ham_probability': 1.0}\n",
      "Message ID: 197adce71a17f3d9, Classification: ham, Probabilities: {'spam_probability': 2.607554227379867e-37, 'ham_probability': 1.0}\n",
      "Message ID: 197ad89445db655c, Classification: ham, Probabilities: {'spam_probability': 0.0, 'ham_probability': 1.0}\n",
      "Message ID: 197ac3d5c55ac823, Classification: ham, Probabilities: {'spam_probability': 8.21403988475205e-59, 'ham_probability': 1.0}\n",
      "Message ID: 197ac16acc2e894d, Classification: ham, Probabilities: {'spam_probability': 1.6950481267985797e-69, 'ham_probability': 1.0}\n",
      "Message ID: 197abd59d036d19c, Classification: ham, Probabilities: {'spam_probability': 4.0728991297035836e-33, 'ham_probability': 1.0}\n",
      "Message ID: 197ab3de755c11b0, Classification: ham, Probabilities: {'spam_probability': 2.234200869484721e-77, 'ham_probability': 1.0}\n",
      "Message ID: 197ab17db398976e, Classification: ham, Probabilities: {'spam_probability': 7.438026666492342e-75, 'ham_probability': 1.0}\n",
      "Message ID: 197aa897254df14a, Classification: ham, Probabilities: {'spam_probability': 4.736449103968725e-105, 'ham_probability': 1.0}\n",
      "Message ID: 197aa7f9a52293c3, Classification: ham, Probabilities: {'spam_probability': 2.0563614028709376e-112, 'ham_probability': 1.0}\n",
      "Message ID: 197aa7936ae9b219, Classification: ham, Probabilities: {'spam_probability': 3.4286186925626773e-118, 'ham_probability': 1.0}\n",
      "Message ID: 197aa73dabcc861f, Classification: ham, Probabilities: {'spam_probability': 0.0, 'ham_probability': 1.0}\n",
      "Message ID: 197a88227e898952, Classification: ham, Probabilities: {'spam_probability': 0.0, 'ham_probability': 1.0}\n",
      "Message ID: 197a7d4e580868d4, Classification: ham, Probabilities: {'spam_probability': 2.73229529036938e-91, 'ham_probability': 1.0}\n",
      "Message ID: 197a78f9bed58bbc, Classification: ham, Probabilities: {'spam_probability': 3.3528329231196937e-25, 'ham_probability': 1.0}\n",
      "Message ID: 197a78ed8cc0013c, Classification: ham, Probabilities: {'spam_probability': 0.0, 'ham_probability': 1.0}\n",
      "Message ID: 197a778de17fefb9, Classification: ham, Probabilities: {'spam_probability': 1.0672565106488339e-70, 'ham_probability': 1.0}\n",
      "Message ID: 197a75f39fa640fc, Classification: ham, Probabilities: {'spam_probability': 1.5364952178752053e-18, 'ham_probability': 1.0}\n",
      "Message ID: 197a6c8f1453cbfc, Classification: ham, Probabilities: {'spam_probability': 1.229424532684422e-27, 'ham_probability': 1.0}\n",
      "Message ID: 197a644902ac8cf2, Classification: ham, Probabilities: {'spam_probability': 1.329094029103197e-39, 'ham_probability': 1.0}\n",
      "Message ID: 197a64194abe7155, Classification: ham, Probabilities: {'spam_probability': 6.246767219402307e-282, 'ham_probability': 1.0}\n",
      "Message ID: 197a629ebc63d9c8, Classification: ham, Probabilities: {'spam_probability': 1.670552118995691e-35, 'ham_probability': 1.0}\n",
      "Message ID: 197a6105f7bed957, Classification: ham, Probabilities: {'spam_probability': 2.510222617121581e-37, 'ham_probability': 1.0}\n",
      "Message ID: 197a5ec103a81635, Classification: ham, Probabilities: {'spam_probability': 6.666711793984933e-07, 'ham_probability': 0.9999993333288205}\n",
      "Message ID: 197a5d01d47f9e4e, Classification: ham, Probabilities: {'spam_probability': 5.61527596143282e-37, 'ham_probability': 1.0}\n",
      "Message ID: 197a5b7f4f4fc9f6, Classification: ham, Probabilities: {'spam_probability': 7.572940092956495e-80, 'ham_probability': 1.0}\n",
      "Message ID: 197a5b7c902f83b5, Classification: ham, Probabilities: {'spam_probability': 4.216673885061371e-237, 'ham_probability': 1.0}\n",
      "Message ID: 197a589e7e78dc74, Classification: ham, Probabilities: {'spam_probability': 1.1042023064338772e-46, 'ham_probability': 1.0}\n",
      "Message ID: 197a5827460cc144, Classification: ham, Probabilities: {'spam_probability': 2.0984774002672214e-14, 'ham_probability': 0.9999999999999789}\n",
      "Message ID: 197a5630e1e0da4d, Classification: ham, Probabilities: {'spam_probability': 1.2403356380253676e-107, 'ham_probability': 1.0}\n",
      "Message ID: 197a5517f19ac7ec, Classification: ham, Probabilities: {'spam_probability': 2.229987115e-314, 'ham_probability': 1.0}\n",
      "Message ID: 197a49c02a9295c0, Classification: ham, Probabilities: {'spam_probability': 0.0, 'ham_probability': 1.0}\n",
      "Message ID: 197a420a52d48677, Classification: ham, Probabilities: {'spam_probability': 8.975001169222336e-58, 'ham_probability': 1.0}\n",
      "Message ID: 197a3a748e15514c, Classification: ham, Probabilities: {'spam_probability': 0.0, 'ham_probability': 1.0}\n",
      "Message ID: 197a2cf1d1448818, Classification: spam, Probabilities: {'spam_probability': 0.6497041680502289, 'ham_probability': 0.35029583194977115}\n",
      "False positive detected: 197a2cf1d1448818 classified as spam\n",
      "Message ID: 197a260d687f7450, Classification: ham, Probabilities: {'spam_probability': 0.0, 'ham_probability': 1.0}\n",
      "Message ID: 197a24187a6b980f, Classification: ham, Probabilities: {'spam_probability': 3.53137218750544e-204, 'ham_probability': 1.0}\n",
      "Message ID: 197a20c2b537152a, Classification: ham, Probabilities: {'spam_probability': 6.734986886916145e-42, 'ham_probability': 1.0}\n",
      "Message ID: 197a19b355408746, Classification: ham, Probabilities: {'spam_probability': 9.842509570946145e-48, 'ham_probability': 1.0}\n",
      "Message ID: 197a0cdda3224817, Classification: ham, Probabilities: {'spam_probability': 0.0, 'ham_probability': 1.0}\n",
      "Message ID: 197a03ca8efc1967, Classification: ham, Probabilities: {'spam_probability': 3.743963476053443e-82, 'ham_probability': 1.0}\n",
      "Message ID: 197a029a77f5355a, Classification: ham, Probabilities: {'spam_probability': 3.254024916554389e-78, 'ham_probability': 1.0}\n",
      "Message ID: 1979ffd1f9fca529, Classification: ham, Probabilities: {'spam_probability': 1.3280516493899356e-50, 'ham_probability': 1.0}\n",
      "Message ID: 1979fd6794a30cc3, Classification: ham, Probabilities: {'spam_probability': 2.793791729386761e-82, 'ham_probability': 1.0}\n",
      "Message ID: 1979fd567b3bf33f, Classification: ham, Probabilities: {'spam_probability': 1.268987982024784e-77, 'ham_probability': 1.0}\n",
      "Message ID: 1979fb00256bcf19, Classification: spam, Probabilities: {'spam_probability': 1.0, 'ham_probability': 0.0}\n",
      "False positive detected: 1979fb00256bcf19 classified as spam\n",
      "Message ID: 1979f1d1e557af8b, Classification: ham, Probabilities: {'spam_probability': 7.799520040749468e-27, 'ham_probability': 1.0}\n",
      "Message ID: 1979d6978bcf67cf, Classification: ham, Probabilities: {'spam_probability': 0.0, 'ham_probability': 1.0}\n"
     ]
    }
   ],
   "source": [
    "for msg_id, metadata in list(ham_iterator):\n",
    "    classification = custom_classifier.classify(metadata['content'])\n",
    "    classification_probabilities = custom_classifier.classification_probability(metadata['content'])\n",
    "    print(f\"Message ID: {msg_id}, Classification: {classification}, Probabilities: {classification_probabilities}\")\n",
    "    if classification != 'ham':\n",
    "        print(f\"False positive detected: {msg_id} classified as {classification}\")"
   ]
  },
  {
   "cell_type": "code",
   "execution_count": 119,
   "id": "31d4ff23",
   "metadata": {},
   "outputs": [],
   "source": [
    "# We have inlcuded many optimizations in this code, such as:\n",
    "## 1. Using log probabilities to avoid underflow issues with very small probabilities which was resulting in NaN values and thus ZeroDivisionError.\n",
    "## 2. Subtract the maximum log probability to avoid overflow issues with very large probabilities.\n",
    "## 3. We have not used epsilon anywhere in this code, as we are using log probabilities which avoids the underflow issues.\n",
    "\n",
    "# This code is a simple implementation of a Naive Bayes classifier for spam detection using term frequency only"
   ]
  },
  {
   "cell_type": "code",
   "execution_count": 120,
   "id": "f8609ffd",
   "metadata": {},
   "outputs": [],
   "source": [
    "# Another interesting thing to note is that, the spam classification is almost perfect, while the ham classification sometimes provides higher spam probabilities than what spam emails have in ham probabilities, i.e. there is a sense of spam being detected in ham emails too, but not as much as spam emails being detected as spam. This is because the spam emails have a lot of common words which are not present in ham emails, thus making it easier to classify them as spam.\n",
    "# One can conclude that some of the ham emails are actually spam, but they are not classified as spam because they do not have enough common words with the spam emails. This is a limitation of the Naive Bayes classifier, as it assumes that the words are independent of each other, which is not always the case in real-world scenarios."
   ]
  },
  {
   "cell_type": "markdown",
   "id": "54c0ce20",
   "metadata": {},
   "source": [
    "## Implementation 2"
   ]
  },
  {
   "cell_type": "code",
   "execution_count": 1,
   "id": "ef7ec033",
   "metadata": {},
   "outputs": [
    {
     "name": "stdout",
     "output_type": "stream",
     "text": [
      "Please visit this URL to authorize this application: https://accounts.google.com/o/oauth2/auth?response_type=code&client_id=628982370333-kkqj66e4850ij5qm0nr2l4b6a514s23e.apps.googleusercontent.com&redirect_uri=http%3A%2F%2Flocalhost%3A8080%2F&scope=https%3A%2F%2Fwww.googleapis.com%2Fauth%2Fgmail.readonly&state=HONVCZiNnObUGstCmu0p9bGzGuqOOG&access_type=offline\n",
      "Found 17 spam messages and 100 ham messages.\n"
     ]
    }
   ],
   "source": [
    "from src.gmail_api import fetch_spam_and_ham\n",
    "import os\n",
    "\n",
    "if os.path.exists('token.json'):\n",
    "    os.remove('token.json')\n",
    "    spam_mails, ham_mails = fetch_spam_and_ham(100)\n",
    "else:\n",
    "    spam_mails, ham_mails = fetch_spam_and_ham(100)"
   ]
  },
  {
   "cell_type": "code",
   "execution_count": 19,
   "id": "a5453dc1",
   "metadata": {},
   "outputs": [],
   "source": [
    "from src.classifier_copy import TFNaiveBayesClassifier as TFNaiveBayesClassifierCopy\n",
    "\n",
    "new_classifier = TFNaiveBayesClassifierCopy(laplace_smoothing_factor=1)"
   ]
  },
  {
   "cell_type": "code",
   "execution_count": 20,
   "id": "d671e49b",
   "metadata": {},
   "outputs": [],
   "source": [
    "new_classifier.fit(spam_mails, ham_mails)"
   ]
  },
  {
   "cell_type": "code",
   "execution_count": 21,
   "id": "28c0f377",
   "metadata": {},
   "outputs": [],
   "source": [
    "spam_iterator = list(spam_mails.items())\n",
    "ham_iterator = list(ham_mails.items())"
   ]
  },
  {
   "cell_type": "code",
   "execution_count": 25,
   "id": "2fbc730c",
   "metadata": {},
   "outputs": [
    {
     "name": "stdout",
     "output_type": "stream",
     "text": [
      "Message ID: 197bca55d72ab5ff, Classification: ham, Probabilities: {'spam_probability': 0.010853855413729085, 'ham_probability': 0.9891461445862709}\n",
      "Wrong classification detected: 197bca55d72ab5ff classified as ham\n",
      "Message ID: 197bb484ec145cb4, Classification: ham, Probabilities: {'spam_probability': 1.32553842772058e-58, 'ham_probability': 1.0}\n",
      "Wrong classification detected: 197bb484ec145cb4 classified as ham\n",
      "Message ID: 197bb2b187253e32, Classification: ham, Probabilities: {'spam_probability': 0.010853855413729085, 'ham_probability': 0.9891461445862709}\n",
      "Wrong classification detected: 197bb2b187253e32 classified as ham\n",
      "Message ID: 197badd0831731d3, Classification: ham, Probabilities: {'spam_probability': 7.643329985756523e-83, 'ham_probability': 1.0}\n",
      "Wrong classification detected: 197badd0831731d3 classified as ham\n",
      "Message ID: 197b9fc7b3bda8ba, Classification: ham, Probabilities: {'spam_probability': 1.6254528634348027e-71, 'ham_probability': 1.0}\n",
      "Wrong classification detected: 197b9fc7b3bda8ba classified as ham\n",
      "Message ID: 197b8586de386758, Classification: ham, Probabilities: {'spam_probability': 1.0870185342147273e-11, 'ham_probability': 0.9999999999891298}\n",
      "Wrong classification detected: 197b8586de386758 classified as ham\n",
      "Message ID: 197b75ebae33ad9b, Classification: ham, Probabilities: {'spam_probability': 4.448656391372142e-26, 'ham_probability': 1.0}\n",
      "Wrong classification detected: 197b75ebae33ad9b classified as ham\n",
      "Message ID: 197b6db99fe9a86b, Classification: ham, Probabilities: {'spam_probability': 3.9730024055147565e-12, 'ham_probability': 0.999999999996027}\n",
      "Wrong classification detected: 197b6db99fe9a86b classified as ham\n",
      "Message ID: 197b5fb821bd23d3, Classification: ham, Probabilities: {'spam_probability': 7.030378707312235e-83, 'ham_probability': 1.0}\n",
      "Wrong classification detected: 197b5fb821bd23d3 classified as ham\n",
      "Message ID: 197b5e0e1753142a, Classification: ham, Probabilities: {'spam_probability': 8.34575658768014e-42, 'ham_probability': 1.0}\n",
      "Wrong classification detected: 197b5e0e1753142a classified as ham\n",
      "Message ID: 197b4d65ba4e5c42, Classification: ham, Probabilities: {'spam_probability': 2.1083091399197556e-73, 'ham_probability': 1.0}\n",
      "Wrong classification detected: 197b4d65ba4e5c42 classified as ham\n",
      "Message ID: 197b48aecce5ee31, Classification: spam, Probabilities: {'spam_probability': 1.0, 'ham_probability': 2.8721751558219027e-81}\n",
      "True positive detected: 197b48aecce5ee31 classified as spam\n",
      "Message ID: 197b45b15abccc5d, Classification: ham, Probabilities: {'spam_probability': 4.067691143591566e-36, 'ham_probability': 1.0}\n",
      "Wrong classification detected: 197b45b15abccc5d classified as ham\n",
      "Message ID: 197b2d45995fc756, Classification: ham, Probabilities: {'spam_probability': 4.296714217699745e-31, 'ham_probability': 1.0}\n",
      "Wrong classification detected: 197b2d45995fc756 classified as ham\n",
      "Message ID: 197b28cf5dfd74d4, Classification: ham, Probabilities: {'spam_probability': 4.054511656285128e-31, 'ham_probability': 1.0}\n",
      "Wrong classification detected: 197b28cf5dfd74d4 classified as ham\n",
      "Message ID: 197b1c6d2fd59a68, Classification: ham, Probabilities: {'spam_probability': 2.2992315851803578e-29, 'ham_probability': 1.0}\n",
      "Wrong classification detected: 197b1c6d2fd59a68 classified as ham\n",
      "Message ID: 197b18c4a499a02b, Classification: ham, Probabilities: {'spam_probability': 2.2224155992150245e-39, 'ham_probability': 1.0}\n",
      "Wrong classification detected: 197b18c4a499a02b classified as ham\n",
      "Message ID: 197b1793dad4a88c, Classification: ham, Probabilities: {'spam_probability': 4.6092471178488926e-39, 'ham_probability': 1.0}\n",
      "Wrong classification detected: 197b1793dad4a88c classified as ham\n",
      "Message ID: 197b110ff274d068, Classification: ham, Probabilities: {'spam_probability': 1.1039203968938114e-06, 'ham_probability': 0.9999988960796032}\n",
      "Wrong classification detected: 197b110ff274d068 classified as ham\n",
      "Message ID: 197b0d60f89959bf, Classification: ham, Probabilities: {'spam_probability': 5.224644673163652e-28, 'ham_probability': 1.0}\n",
      "Wrong classification detected: 197b0d60f89959bf classified as ham\n",
      "Message ID: 197b0b83e83f759d, Classification: ham, Probabilities: {'spam_probability': 1.1622976650352361e-18, 'ham_probability': 1.0}\n",
      "Wrong classification detected: 197b0b83e83f759d classified as ham\n",
      "Message ID: 197b068726683645, Classification: ham, Probabilities: {'spam_probability': 2.8855502094445034e-63, 'ham_probability': 1.0}\n",
      "Wrong classification detected: 197b068726683645 classified as ham\n",
      "Message ID: 197b00cfaf7017f1, Classification: ham, Probabilities: {'spam_probability': 1.1089007818305376e-84, 'ham_probability': 1.0}\n",
      "Wrong classification detected: 197b00cfaf7017f1 classified as ham\n",
      "Message ID: 197b00c17e17e0cc, Classification: spam, Probabilities: {'spam_probability': 1.0, 'ham_probability': 2.914416303830974e-81}\n",
      "True positive detected: 197b00c17e17e0cc classified as spam\n",
      "Message ID: 197afafb68761a50, Classification: ham, Probabilities: {'spam_probability': 1.091395795277853e-58, 'ham_probability': 1.0}\n",
      "Wrong classification detected: 197afafb68761a50 classified as ham\n",
      "Message ID: 197af6f6be50fc3b, Classification: ham, Probabilities: {'spam_probability': 6.39090720476044e-44, 'ham_probability': 1.0}\n",
      "Wrong classification detected: 197af6f6be50fc3b classified as ham\n",
      "Message ID: 197ae2827dc9cf13, Classification: ham, Probabilities: {'spam_probability': 1.340497204225767e-31, 'ham_probability': 1.0}\n",
      "Wrong classification detected: 197ae2827dc9cf13 classified as ham\n",
      "Message ID: 197ae14514dbb24b, Classification: ham, Probabilities: {'spam_probability': 9.860977599695545e-15, 'ham_probability': 0.9999999999999902}\n",
      "Wrong classification detected: 197ae14514dbb24b classified as ham\n",
      "Message ID: 197adce71a17f3d9, Classification: ham, Probabilities: {'spam_probability': 9.879311609326594e-27, 'ham_probability': 1.0}\n",
      "Wrong classification detected: 197adce71a17f3d9 classified as ham\n",
      "Message ID: 197ad89445db655c, Classification: ham, Probabilities: {'spam_probability': 1.8422467300723332e-06, 'ham_probability': 0.9999981577532698}\n",
      "Wrong classification detected: 197ad89445db655c classified as ham\n",
      "Message ID: 197ac3d5c55ac823, Classification: ham, Probabilities: {'spam_probability': 2.1453585570686202e-45, 'ham_probability': 1.0}\n",
      "Wrong classification detected: 197ac3d5c55ac823 classified as ham\n",
      "Message ID: 197ac16acc2e894d, Classification: ham, Probabilities: {'spam_probability': 2.0082526754566468e-52, 'ham_probability': 1.0}\n",
      "Wrong classification detected: 197ac16acc2e894d classified as ham\n",
      "Message ID: 197abd59d036d19c, Classification: ham, Probabilities: {'spam_probability': 2.2252092682996555e-16, 'ham_probability': 0.9999999999999998}\n",
      "Wrong classification detected: 197abd59d036d19c classified as ham\n",
      "Message ID: 197ab3de755c11b0, Classification: ham, Probabilities: {'spam_probability': 8.614514811405302e-53, 'ham_probability': 1.0}\n",
      "Wrong classification detected: 197ab3de755c11b0 classified as ham\n",
      "Message ID: 197ab17db398976e, Classification: spam, Probabilities: {'spam_probability': 1.0, 'ham_probability': 3.883668093864466e-81}\n",
      "True positive detected: 197ab17db398976e classified as spam\n",
      "Message ID: 197aa897254df14a, Classification: ham, Probabilities: {'spam_probability': 4.482479624904226e-75, 'ham_probability': 1.0}\n",
      "Wrong classification detected: 197aa897254df14a classified as ham\n",
      "Message ID: 197aa7f9a52293c3, Classification: ham, Probabilities: {'spam_probability': 9.885057061020912e-72, 'ham_probability': 1.0}\n",
      "Wrong classification detected: 197aa7f9a52293c3 classified as ham\n",
      "Message ID: 197aa7936ae9b219, Classification: ham, Probabilities: {'spam_probability': 5.2606638491692384e-74, 'ham_probability': 1.0}\n",
      "Wrong classification detected: 197aa7936ae9b219 classified as ham\n",
      "Message ID: 197aa73dabcc861f, Classification: ham, Probabilities: {'spam_probability': 9.470017321876221e-27, 'ham_probability': 1.0}\n",
      "Wrong classification detected: 197aa73dabcc861f classified as ham\n",
      "Message ID: 197a88227e898952, Classification: ham, Probabilities: {'spam_probability': 0.0, 'ham_probability': 1.0}\n",
      "Wrong classification detected: 197a88227e898952 classified as ham\n",
      "Message ID: 197a7d4e580868d4, Classification: ham, Probabilities: {'spam_probability': 1.645992517159042e-38, 'ham_probability': 1.0}\n",
      "Wrong classification detected: 197a7d4e580868d4 classified as ham\n",
      "Message ID: 197a78f9bed58bbc, Classification: ham, Probabilities: {'spam_probability': 4.850791873121123e-16, 'ham_probability': 0.9999999999999996}\n",
      "Wrong classification detected: 197a78f9bed58bbc classified as ham\n",
      "Message ID: 197a78ed8cc0013c, Classification: ham, Probabilities: {'spam_probability': 8.693609266223055e-16, 'ham_probability': 0.9999999999999991}\n",
      "Wrong classification detected: 197a78ed8cc0013c classified as ham\n",
      "Message ID: 197a778de17fefb9, Classification: ham, Probabilities: {'spam_probability': 1.541268942083755e-31, 'ham_probability': 1.0}\n",
      "Wrong classification detected: 197a778de17fefb9 classified as ham\n",
      "Message ID: 197a75f39fa640fc, Classification: ham, Probabilities: {'spam_probability': 7.238428538846882e-09, 'ham_probability': 0.9999999927615715}\n",
      "Wrong classification detected: 197a75f39fa640fc classified as ham\n",
      "Message ID: 197a6c8f1453cbfc, Classification: ham, Probabilities: {'spam_probability': 3.4205132088296136e-23, 'ham_probability': 1.0}\n",
      "Wrong classification detected: 197a6c8f1453cbfc classified as ham\n",
      "Message ID: 197a644902ac8cf2, Classification: ham, Probabilities: {'spam_probability': 4.086352952422252e-37, 'ham_probability': 1.0}\n",
      "Wrong classification detected: 197a644902ac8cf2 classified as ham\n",
      "Message ID: 197a64194abe7155, Classification: ham, Probabilities: {'spam_probability': 6.63872599957419e-209, 'ham_probability': 1.0}\n",
      "Wrong classification detected: 197a64194abe7155 classified as ham\n",
      "Message ID: 197a629ebc63d9c8, Classification: ham, Probabilities: {'spam_probability': 4.3567785035722314e-24, 'ham_probability': 1.0}\n",
      "Wrong classification detected: 197a629ebc63d9c8 classified as ham\n",
      "Message ID: 197a6105f7bed957, Classification: ham, Probabilities: {'spam_probability': 3.2887790055702116e-31, 'ham_probability': 1.0}\n",
      "Wrong classification detected: 197a6105f7bed957 classified as ham\n",
      "Message ID: 197a5ec103a81635, Classification: spam, Probabilities: {'spam_probability': 0.9998761478122282, 'ham_probability': 0.000123852187771716}\n",
      "True positive detected: 197a5ec103a81635 classified as spam\n",
      "Message ID: 197a5d01d47f9e4e, Classification: ham, Probabilities: {'spam_probability': 8.472307438574931e-21, 'ham_probability': 1.0}\n",
      "Wrong classification detected: 197a5d01d47f9e4e classified as ham\n",
      "Message ID: 197a5b7f4f4fc9f6, Classification: ham, Probabilities: {'spam_probability': 4.723612107306602e-46, 'ham_probability': 1.0}\n",
      "Wrong classification detected: 197a5b7f4f4fc9f6 classified as ham\n",
      "Message ID: 197a5b7c902f83b5, Classification: ham, Probabilities: {'spam_probability': 4.6964176918252435e-175, 'ham_probability': 1.0}\n",
      "Wrong classification detected: 197a5b7c902f83b5 classified as ham\n",
      "Message ID: 197a589e7e78dc74, Classification: ham, Probabilities: {'spam_probability': 2.106609474498018e-34, 'ham_probability': 1.0}\n",
      "Wrong classification detected: 197a589e7e78dc74 classified as ham\n",
      "Message ID: 197a5827460cc144, Classification: ham, Probabilities: {'spam_probability': 2.789933517005478e-07, 'ham_probability': 0.9999997210066484}\n",
      "Wrong classification detected: 197a5827460cc144 classified as ham\n",
      "Message ID: 197a5630e1e0da4d, Classification: ham, Probabilities: {'spam_probability': 1.5855784606909706e-74, 'ham_probability': 1.0}\n",
      "Wrong classification detected: 197a5630e1e0da4d classified as ham\n",
      "Message ID: 197a5517f19ac7ec, Classification: spam, Probabilities: {'spam_probability': 1.0, 'ham_probability': 5.645879148221111e-231}\n",
      "True positive detected: 197a5517f19ac7ec classified as spam\n",
      "Message ID: 197a49c02a9295c0, Classification: spam, Probabilities: {'spam_probability': 1.0, 'ham_probability': 1.7689097797999086e-66}\n",
      "True positive detected: 197a49c02a9295c0 classified as spam\n",
      "Message ID: 197a420a52d48677, Classification: spam, Probabilities: {'spam_probability': 1.0, 'ham_probability': 1.0828259368439203e-60}\n",
      "True positive detected: 197a420a52d48677 classified as spam\n",
      "Message ID: 197a3a748e15514c, Classification: ham, Probabilities: {'spam_probability': 6.994008554278057e-178, 'ham_probability': 1.0}\n",
      "Wrong classification detected: 197a3a748e15514c classified as ham\n",
      "Message ID: 197a2cf1d1448818, Classification: spam, Probabilities: {'spam_probability': 1.0, 'ham_probability': 3.427750299250639e-22}\n",
      "True positive detected: 197a2cf1d1448818 classified as spam\n",
      "Message ID: 197a260d687f7450, Classification: spam, Probabilities: {'spam_probability': 1.0, 'ham_probability': 9.686560102173779e-79}\n",
      "True positive detected: 197a260d687f7450 classified as spam\n",
      "Message ID: 197a24187a6b980f, Classification: ham, Probabilities: {'spam_probability': 2.1118600933270203e-46, 'ham_probability': 1.0}\n",
      "Wrong classification detected: 197a24187a6b980f classified as ham\n",
      "Message ID: 197a20c2b537152a, Classification: ham, Probabilities: {'spam_probability': 2.1560168976003873e-22, 'ham_probability': 1.0}\n",
      "Wrong classification detected: 197a20c2b537152a classified as ham\n",
      "Message ID: 197a19b355408746, Classification: ham, Probabilities: {'spam_probability': 4.397256924818007e-36, 'ham_probability': 1.0}\n",
      "Wrong classification detected: 197a19b355408746 classified as ham\n",
      "Message ID: 197a0cdda3224817, Classification: ham, Probabilities: {'spam_probability': 2.8855502094445034e-63, 'ham_probability': 1.0}\n",
      "Wrong classification detected: 197a0cdda3224817 classified as ham\n",
      "Message ID: 197a03ca8efc1967, Classification: ham, Probabilities: {'spam_probability': 6.743210671375286e-57, 'ham_probability': 1.0}\n",
      "Wrong classification detected: 197a03ca8efc1967 classified as ham\n",
      "Message ID: 197a029a77f5355a, Classification: ham, Probabilities: {'spam_probability': 3.1424105577267966e-60, 'ham_probability': 1.0}\n",
      "Wrong classification detected: 197a029a77f5355a classified as ham\n",
      "Message ID: 1979ffd1f9fca529, Classification: ham, Probabilities: {'spam_probability': 4.846125512046183e-36, 'ham_probability': 1.0}\n",
      "Wrong classification detected: 1979ffd1f9fca529 classified as ham\n",
      "Message ID: 1979fd6794a30cc3, Classification: ham, Probabilities: {'spam_probability': 2.3409932383617395e-64, 'ham_probability': 1.0}\n",
      "Wrong classification detected: 1979fd6794a30cc3 classified as ham\n",
      "Message ID: 1979fd567b3bf33f, Classification: ham, Probabilities: {'spam_probability': 2.3178983986684054e-42, 'ham_probability': 1.0}\n",
      "Wrong classification detected: 1979fd567b3bf33f classified as ham\n",
      "Message ID: 1979fb00256bcf19, Classification: spam, Probabilities: {'spam_probability': 1.0, 'ham_probability': 0.0}\n",
      "True positive detected: 1979fb00256bcf19 classified as spam\n",
      "Message ID: 1979f1d1e557af8b, Classification: ham, Probabilities: {'spam_probability': 1.7178245469793985e-18, 'ham_probability': 1.0}\n",
      "Wrong classification detected: 1979f1d1e557af8b classified as ham\n",
      "Message ID: 1979d6978bcf67cf, Classification: spam, Probabilities: {'spam_probability': 1.0, 'ham_probability': 2.1286203901956286e-99}\n",
      "True positive detected: 1979d6978bcf67cf classified as spam\n"
     ]
    }
   ],
   "source": [
    "for msg_id, metadata in list(ham_iterator):\n",
    "    classification = new_classifier.classify(metadata['content'])\n",
    "    classification_probabilities = new_classifier.classification_probability(metadata['content'])\n",
    "    print(f\"Message ID: {msg_id}, Classification: {classification}, Probabilities: {classification_probabilities}\")\n",
    "    if classification != 'spam':\n",
    "        print(f\"Wrong classification detected: {msg_id} classified as {classification}\")\n",
    "    else:\n",
    "        print(f\"True positive detected: {msg_id} classified as {classification}\")"
   ]
  },
  {
   "cell_type": "code",
   "execution_count": null,
   "id": "4f64b21c",
   "metadata": {},
   "outputs": [],
   "source": []
  }
 ],
 "metadata": {
  "kernelspec": {
   "display_name": "naive_bayes",
   "language": "python",
   "name": "python3"
  },
  "language_info": {
   "codemirror_mode": {
    "name": "ipython",
    "version": 3
   },
   "file_extension": ".py",
   "mimetype": "text/x-python",
   "name": "python",
   "nbconvert_exporter": "python",
   "pygments_lexer": "ipython3",
   "version": "3.13.3"
  }
 },
 "nbformat": 4,
 "nbformat_minor": 5
}
