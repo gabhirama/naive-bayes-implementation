{
 "cells": [
  {
   "cell_type": "code",
   "execution_count": 1,
   "id": "40edebee",
   "metadata": {},
   "outputs": [
    {
     "name": "stdout",
     "output_type": "stream",
     "text": [
      "Please visit this URL to authorize this application: https://accounts.google.com/o/oauth2/auth?response_type=code&client_id=628982370333-kkqj66e4850ij5qm0nr2l4b6a514s23e.apps.googleusercontent.com&redirect_uri=http%3A%2F%2Flocalhost%3A8080%2F&scope=https%3A%2F%2Fwww.googleapis.com%2Fauth%2Fgmail.readonly&state=qrk71Xd8e9Qo0juw5l0dQUHqjwaR34&access_type=offline\n",
      "Found 16 spam messages and 100 ham messages.\n"
     ]
    }
   ],
   "source": [
    "from gmail_api import fetch_spam_and_ham\n",
    "\n",
    "spam_mails, ham_mails = fetch_spam_and_ham(100)"
   ]
  },
  {
   "cell_type": "code",
   "execution_count": 2,
   "id": "432cca3b",
   "metadata": {},
   "outputs": [],
   "source": [
    "p_spam = len(spam_mails)/(len(spam_mails) + len(ham_mails))\n",
    "p_ham = len(ham_mails)/(len(spam_mails) + len(ham_mails))"
   ]
  },
  {
   "cell_type": "code",
   "execution_count": 23,
   "id": "e775adee",
   "metadata": {},
   "outputs": [],
   "source": [
    "spam_iterator = list(spam_mails.items())\n",
    "ham_iterator = list(ham_mails.items())"
   ]
  },
  {
   "cell_type": "code",
   "execution_count": 25,
   "id": "30a4b165",
   "metadata": {},
   "outputs": [
    {
     "data": {
      "text/plain": [
       "{'subject': 'You’re invited: AWS Builders Online Series',\n",
       " 'sender': 'Amazon Web Services <aws-apj-marketing@amazon.com>',\n",
       " 'date': 'Tue, 17 Jun 2025 03:49:51 +0000',\n",
       " 'content': \"To view this email as a web page, go to the following address: https://pages.awscloud.com/index.php/email/emailWebview?mkt_tok=MTEyLVRaTS03NjYAAAGbGvDG9t174gt4vpa20NBoQu3LZ83mG0O8S_LUoMvP6Kbgv_lFCPDdAg6QXZYoeoUP637gafGDeG0f0Qf7_WXZBcfKi_6B-VKkNXcO2zs7k54ttjej7fIQsCM&tkn_set=7goOJ6CUdWJcoW5Stq3JcvG8zGSzDvrDw94JZ5OXvLFCpjQKH4K%2BWA%3D%3D\\r\\n\\r\\nAWS Builders Online Series\\r\\n========================================\\r\\n\\r\\n31 July, 2025\\r\\n\\r\\nRegister now \\r\\n<https://email.awscloud.com/MTEyLVRaTS03NjYAAAGbGvDG9sEzrhXGDtxP9rd_BqrNSUsZ5NBni_8vro53KZhjE1qky3l6JvUw_FLsoJ5JtXIz7KY=>\\r\\n\\r\\n----------------------------------------\\r\\n\\r\\n\\r\\nOnline Event\\r\\n31 July, 2025\\r\\n \\r\\nView session timings\\r\\n<https://email.awscloud.com/MTEyLVRaTS03NjYAAAGbGvDG9rcovvK7g2IorMZXRha8-SYvy4vWj0pwfpInPcspQV8Ni12FlT9J-bRzmroIg2UQsuM=>\\r\\n\\r\\nView agenda\\r\\n<https://email.awscloud.com/MTEyLVRaTS03NjYAAAGbGvDG9mwoSRYlf2qGxWxH6MxdCdrFwhac45yRnDKYuf75f06KiklOuU1KUPviOns5lvKbrY0=>\\r\\n\\r\\n\\r\\nMark your calendars! \\r\\nAWS Builders Online Series is coming—a free online series designed to deepen your cloud skills. Master the A to Zs on launching your first workload with AWS.\\r\\n\\r\\n\\r\\nReserve my spot now \\r\\n<https://email.awscloud.com/MTEyLVRaTS03NjYAAAGbGvDG9sOe7UTPWqPtH3DJD_6f3NxH5ou5P0x9BIfEpgiUbN8L1mb8RDOfu5fRd5cKDlOPH_s=>\\r\\n\\r\\n----------------------------------------\\r\\n\\r\\n\\r\\nYour quick start to AWS\\r\\n- 3 Dedicated tracks, 1 keynote\\r\\n Best practices, demos and tools made for you\\r\\n\\r\\n- Focused deep dives\\r\\n Subject-matter-experts on gen AI, modern apps, and more\\r\\n\\r\\n- Live Q&A\\r\\n Get your cloud questions answered by AWS experts\\r\\n\\r\\n\\r\\nSessions designed for:\\r\\n - IT technical users such as Developers, Engineers, System Administrators, Solution Architects, and IT Managers\\r\\n\\r\\n\\r\\nRegister now \\r\\n<https://email.awscloud.com/MTEyLVRaTS03NjYAAAGbGvDG9sEzrhXGDtxP9rd_BqrNSUsZ5NBni_8vro53KZhjE1qky3l6JvUw_FLsoJ5JtXIz7KY=>\\r\\n\\r\\n\\r\\nSee you on 31 July!\\r\\n\\r\\n Best regards,\\r\\n Amazon Web Services\\r\\n\\r\\n========================================\\r\\n\\r\\n\\r\\n\\r\\n\\r\\n\\r\\n\\r\\n\\r\\n----------------------------------\\r\\n\\r\\nStart Building on AWS Today\\r\\nGain free, hands-on experience with AWS Platform, products, and services.\\r\\nCreate a Free Account <https://go.aws/3NTu4LS>\\r\\n\\r\\n----------------------------------\\r\\n\\r\\nAWS on X <https://email.awscloud.com/MTEyLVRaTS03NjYAAAGbGvDG9pUaw3gVOADrJpx5-F5cMI-HCdJYlfkAmgTyVG6IMtMcSgkK5RXcmdFMlAKPUN9cunI=>\\r\\n\\r\\nAWS on Facebook  <https://email.awscloud.com/MTEyLVRaTS03NjYAAAGbGvDG9omQn4BgjWa5aPEkV5yJoBEzdpRlEe1l6OUFl_oH09sUUyRsUye99B4ifQhe7Vv70E0=>\\r\\n\\r\\nAWS on Twitch  <https://email.awscloud.com/MTEyLVRaTS03NjYAAAGbGvDG9rn5WJVji9Xnqr8Y1U9Mm7r93fdWwdnY2TXcXIszxSbtSVfe2YErVmBXINW8ZWhaA14=> \\r\\n\\r\\nAWS Blog  <https://email.awscloud.com/MTEyLVRaTS03NjYAAAGbGvDG9mtsGTI58qN9tDDh4GwiA5guoi-072bCwm1RExU3Sv7qm7jqPXWfwgXErZqs0I0aJys=>\\r\\n\\r\\nAWS TechChat <https://email.awscloud.com/MTEyLVRaTS03NjYAAAGbGvDG9v0_PvWbNz2XruWnjjQ2ZUAjm0MA9UlIO4uNiyw8K-oO-ZlFacI1Hfe9k6XHkxTxh-o=>\\r\\n\\r\\n\\r\\nIf you'd rather not receive future emails from Amazon Web Services India Private Limited, unsubscribe here <https://email.awscloud.com/dc/sRhgdM26bquWWERQj_H99lCavgYp1xy4_-5c9n1WxRAg-Iit3iVTUYZUZlQmzz1BTdI04NvsSqvrTM6rSnQGNK7Z_G6-zH4bcFNO__1cW3uobRo9c3jG9ZC4EsWi4B64LLn9TiyVsHywgTTCP1jpN-CRgUzfmnatxP9LKb_NQ6MsvaLck0dcyrWKV_4nisCiZPRrlQY8XLbkYx4lR6t625rinaGyl9dShfq1osFEVnJ_iDKoXtGOpEbeyxZeN_0K4KzLGi_JJzGprRBguHtSeElPzoik2Es7O7CY5B6ADhNEa1db5HdnCPqgEDI-syyRQcb3FWandsHiS65LsMOjRmublbIvz7JHFOSBAPXtVtj2UjyEatENcyVtsedlIKLe0XaZ29Os9sTtL3FYyKWNheKkxT3PQk2bE3DdtDTDVBo=/MTEyLVRaTS03NjYAAAGbGvDG9aHYPDx9PrPlWqNaGEyBY8B54BteVED4IOPzXy1_g0e8lGHwoLFHc2fF-ntedkd3lK8=>.\\r\\n \\r\\nAmazon Web Services India Private Limited is a subsidiary of Amazon.com, Inc. Amazon.com is a registered trademark of Amazon.com.\\r\\n \\r\\nThis message produced and distributed by Amazon Web Services India Private Limited or its affiliates <https://email.awscloud.com/MTEyLVRaTS03NjYAAAGbGvDG9vfcXmgu13v7W3AuLty0C6wWEUdg5zmh26VwjO8zVv0jjJq_h1LRD517Udx9sADoAVg=>.\\r\\n\\r\\n© 2025, Amazon Web Services, Inc. or its affiliates. All rights reserved. Read our Privacy Notice <https://email.awscloud.com/dc/ajD_BapU74vzOhWVQvr7p2gvewIU_49R6VB0mTGKdZVexaS6HkCMOe9KHtV6i_MetxMbM3rEaxFLsFXA4vhyU8RIAKW9sv-t0rBv2ZP89Py790R6aDxH_ZbgOxmFpKYOdKaXA4NZNywiBdDV8LKdqP7pj5ds_L6xwSlfDISALa5SY513nqFW0Wp3bjhAH4gipaEBPrlZ0Ac4M0EPXN0k_n2wbbToJ3_JnlDbnMHIpuOHOvwCFF_xbqoL1YuN3gAy511CGEpXu4xckIdpMgSqxNOo7RTsg4nD7AQGay2HngJbr3vTNfSE9vN3LZBfk43AKBLsRXA7zTARpY7_3e6ZAeJN7fXvUfKbw-olra3L7Wnh8TzqWheJgtuQLoYdASylnTmgQrgZsViZnNWpHOhKWw==/MTEyLVRaTS03NjYAAAGbGvDG9aHYPDx9PrPlWqNaGEyBY8B54BteVED4IOPzXy1_g0e8lGHwoLFHc2fF-ntedkd3lK8=>.\\r\\n\\r\\n--------------------------------------------\\r\\n\"}"
      ]
     },
     "execution_count": 25,
     "metadata": {},
     "output_type": "execute_result"
    }
   ],
   "source": [
    "spam_iterator[1][1]"
   ]
  },
  {
   "cell_type": "code",
   "execution_count": 19,
   "id": "57f850ad",
   "metadata": {},
   "outputs": [],
   "source": [
    "spam_word_dict = {}\n",
    "ham_word_dict = {}"
   ]
  },
  {
   "cell_type": "code",
   "execution_count": 26,
   "id": "e0e7fca0",
   "metadata": {},
   "outputs": [],
   "source": [
    "for item in spam_iterator:\n",
    "    _, metadata_dict = item\n",
    "    content = metadata_dict['content']\n",
    "    for word in content.split():\n",
    "        word = word.lower()\n",
    "        if word not in spam_word_dict:\n",
    "            spam_word_dict[word] = 0\n",
    "        spam_word_dict[word] += 1\n",
    "for item in ham_iterator:\n",
    "    _, metadata_dict = item\n",
    "    content = metadata_dict['content']\n",
    "    for word in content.split():\n",
    "        word = word.lower()\n",
    "        if word not in ham_word_dict:\n",
    "            ham_word_dict[word] = 0\n",
    "        ham_word_dict[word] += 1"
   ]
  },
  {
   "cell_type": "code",
   "execution_count": 57,
   "id": "d2bb0222",
   "metadata": {},
   "outputs": [],
   "source": [
    "spam_word_count = sorted(spam_word_dict.items(), key=lambda x: x[1], reverse=True)\n",
    "#use new_dict = sorted(dict.items()) alone in case you want to sort by key\n",
    "ham_word_count = sorted(ham_word_dict.items(), key=lambda x: x[1], reverse=True)"
   ]
  },
  {
   "cell_type": "code",
   "execution_count": 58,
   "id": "9e20cfec",
   "metadata": {},
   "outputs": [],
   "source": [
    "total_words_in_spam = sum(spam_word_dict.values())\n",
    "total_words_in_ham = sum(ham_word_dict.values())\n",
    "vocab_size = len(spam_word_dict) + len(ham_word_dict)"
   ]
  },
  {
   "cell_type": "code",
   "execution_count": 59,
   "id": "b89b63b5",
   "metadata": {},
   "outputs": [],
   "source": [
    "laplace_smoothing_factor = 1"
   ]
  },
  {
   "cell_type": "code",
   "execution_count": null,
   "id": "086886dd",
   "metadata": {},
   "outputs": [],
   "source": [
    "spam_word_frequency = []\n",
    "ham_word_frequency = []\n",
    "# we are creating a new list of tuples with the word, count, and frequency, because we cannot modify the \n",
    "for i in range(len(spam_word_count)):\n",
    "    word, count = spam_word_count[i]\n",
    "    frequency = (count + laplace_smoothing_factor) / (total_words_in_spam + laplace_smoothing_factor * vocab_size)\n",
    "    spam_word_frequency.append((spam_word_count[i][0], count, frequency))\n",
    "\n",
    "for i in range(len(ham_word_count)):\n",
    "    word, count = ham_word_count[i]\n",
    "    frequency = (count + laplace_smoothing_factor) / (total_words_in_ham + laplace_smoothing_factor * vocab_size)\n",
    "    ham_word_frequency.append((ham_word_count[i][0], count, frequency))"
   ]
  },
  {
   "cell_type": "code",
   "execution_count": null,
   "id": "ada78dd7",
   "metadata": {},
   "outputs": [],
   "source": [
    "# We can also overwrite the original list of tuples with another value, if we want to keep the original list intact\n",
    "spam_word_count = [(word, count, (count + laplace_smoothing_factor) / (total_words_in_spam + laplace_smoothing_factor * vocab_size)) for word, count in spam_word_count]\n",
    "ham_word_count = [(word, count, (count + laplace_smoothing_factor) / (total_words_in_ham + laplace_smoothing_factor * vocab_size)) for word, count in ham_word_count]"
   ]
  },
  {
   "cell_type": "code",
   "execution_count": 67,
   "id": "27b7a9fd",
   "metadata": {},
   "outputs": [],
   "source": [
    "# Word, Count, P(Word|Spam) and P(Word|Ham) is the new format of the lists"
   ]
  }
 ],
 "metadata": {
  "kernelspec": {
   "display_name": "naive_bayes",
   "language": "python",
   "name": "python3"
  },
  "language_info": {
   "codemirror_mode": {
    "name": "ipython",
    "version": 3
   },
   "file_extension": ".py",
   "mimetype": "text/x-python",
   "name": "python",
   "nbconvert_exporter": "python",
   "pygments_lexer": "ipython3",
   "version": "3.13.3"
  }
 },
 "nbformat": 4,
 "nbformat_minor": 5
}
