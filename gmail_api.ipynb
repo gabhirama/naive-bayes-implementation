{
 "cells": [
  {
   "cell_type": "code",
   "execution_count": 2,
   "id": "da99e7ee",
   "metadata": {},
   "outputs": [
    {
     "name": "stdout",
     "output_type": "stream",
     "text": [
      "Note: you may need to restart the kernel to use updated packages.Collecting google-auth-oauthlib\n",
      "  Using cached google_auth_oauthlib-1.2.2-py3-none-any.whl.metadata (2.7 kB)\n",
      "Requirement already satisfied: google-auth>=2.15.0 in c:\\users\\dell\\appdata\\local\\programs\\python\\python312\\lib\\site-packages (from google-auth-oauthlib) (2.31.0)\n",
      "Collecting requests-oauthlib>=0.7.0 (from google-auth-oauthlib)\n",
      "  Using cached requests_oauthlib-2.0.0-py2.py3-none-any.whl.metadata (11 kB)\n",
      "Requirement already satisfied: cachetools<6.0,>=2.0.0 in c:\\users\\dell\\appdata\\local\\programs\\python\\python312\\lib\\site-packages (from google-auth>=2.15.0->google-auth-oauthlib) (5.3.3)\n",
      "Requirement already satisfied: pyasn1-modules>=0.2.1 in c:\\users\\dell\\appdata\\local\\programs\\python\\python312\\lib\\site-packages (from google-auth>=2.15.0->google-auth-oauthlib) (0.4.0)\n",
      "Requirement already satisfied: rsa<5,>=3.1.4 in c:\\users\\dell\\appdata\\local\\programs\\python\\python312\\lib\\site-packages (from google-auth>=2.15.0->google-auth-oauthlib) (4.9)\n",
      "Collecting oauthlib>=3.0.0 (from requests-oauthlib>=0.7.0->google-auth-oauthlib)\n",
      "  Using cached oauthlib-3.3.1-py3-none-any.whl.metadata (7.9 kB)\n",
      "Requirement already satisfied: requests>=2.0.0 in c:\\users\\dell\\appdata\\local\\programs\\python\\python312\\lib\\site-packages (from requests-oauthlib>=0.7.0->google-auth-oauthlib) (2.32.3)\n",
      "Requirement already satisfied: pyasn1<0.7.0,>=0.4.6 in c:\\users\\dell\\appdata\\local\\programs\\python\\python312\\lib\\site-packages (from pyasn1-modules>=0.2.1->google-auth>=2.15.0->google-auth-oauthlib) (0.6.0)\n",
      "Requirement already satisfied: charset-normalizer<4,>=2 in c:\\users\\dell\\appdata\\local\\programs\\python\\python312\\lib\\site-packages (from requests>=2.0.0->requests-oauthlib>=0.7.0->google-auth-oauthlib) (3.3.2)\n",
      "Requirement already satisfied: idna<4,>=2.5 in c:\\users\\dell\\appdata\\local\\programs\\python\\python312\\lib\\site-packages (from requests>=2.0.0->requests-oauthlib>=0.7.0->google-auth-oauthlib) (3.7)\n",
      "Requirement already satisfied: urllib3<3,>=1.21.1 in c:\\users\\dell\\appdata\\local\\programs\\python\\python312\\lib\\site-packages (from requests>=2.0.0->requests-oauthlib>=0.7.0->google-auth-oauthlib) (1.26.20)\n",
      "Requirement already satisfied: certifi>=2017.4.17 in c:\\users\\dell\\appdata\\local\\programs\\python\\python312\\lib\\site-packages (from requests>=2.0.0->requests-oauthlib>=0.7.0->google-auth-oauthlib) (2024.6.2)\n",
      "Using cached google_auth_oauthlib-1.2.2-py3-none-any.whl (19 kB)\n",
      "Using cached requests_oauthlib-2.0.0-py2.py3-none-any.whl (24 kB)\n",
      "Using cached oauthlib-3.3.1-py3-none-any.whl (160 kB)\n",
      "Installing collected packages: oauthlib, requests-oauthlib, google-auth-oauthlib\n",
      "Successfully installed google-auth-oauthlib-1.2.2 oauthlib-3.3.1 requests-oauthlib-2.0.0\n",
      "\n"
     ]
    },
    {
     "name": "stderr",
     "output_type": "stream",
     "text": [
      "\n",
      "[notice] A new release of pip is available: 25.0.1 -> 25.1.1\n",
      "[notice] To update, run: python.exe -m pip install --upgrade pip\n"
     ]
    }
   ],
   "source": [
    "%pip install google-auth-oauthlib"
   ]
  },
  {
   "cell_type": "code",
   "execution_count": null,
   "id": "b9e78324",
   "metadata": {},
   "outputs": [],
   "source": [
    "from google_auth_oauthlib.flow import InstalledAppFlow\n",
    "from googleapiclient.discovery import build\n",
    "import base64\n",
    "import email\n",
    "\n",
    "# Scopes for reading Gmail messages\n",
    "SCOPES = ['https://www.googleapis.com/auth/gmail.readonly']\n",
    "\n",
    "def authenticate_gmail():\n",
    "    flow = InstalledAppFlow.from_client_secrets_file('credentials.json', SCOPES)\n",
    "    creds = flow.run_local_server(port=8080)\n",
    "    service = build('gmail', 'v1', credentials=creds)\n",
    "    return service\n",
    "\n",
    "def get_messages(service, query='', max_results=100):\n",
    "    result = service.users().messages().list(userId='me', q=query, maxResults=max_results).execute()\n",
    "    messages = result.get('messages', [])\n",
    "    return messages\n",
    "\n",
    "def get_message_content(service, msg_id):\n",
    "    msg = service.users().messages().get(userId='me', id=msg_id, format='raw').execute()\n",
    "    raw_data = base64.urlsafe_b64decode(msg['raw'].encode('ASCII'))\n",
    "    mime_msg = email.message_from_bytes(raw_data)\n",
    "    body = ''\n",
    "    if mime_msg.is_multipart():\n",
    "        for part in mime_msg.walk():\n",
    "            if part.get_content_type() == 'text/plain':\n",
    "                body += part.get_payload(decode=True).decode('utf-8', errors='ignore') #type: ignore\n",
    "    else:\n",
    "        body = mime_msg.get_payload(decode=True).decode('utf-8', errors='ignore') #type: ignore\n",
    "    return body\n",
    "\n",
    "def get_message_subject(service, msg_id):\n",
    "    msg = service.users().messages().get(userId='me', id=msg_id, format='metadata').execute()\n",
    "    headers = msg['payload']['headers']\n",
    "    for header in headers:\n",
    "        if header['name'] == 'Subject':\n",
    "            return header['value']\n",
    "    return None\n",
    "\n",
    "def get_message_sender(service, msg_id):\n",
    "    msg = service.users().messages().get(userId='me', id=msg_id, format='metadata').execute()\n",
    "    headers = msg['payload']['headers']\n",
    "    for header in headers:\n",
    "        if header['name'] == 'From':\n",
    "            return header['value']\n",
    "    return None\n",
    "\n",
    "def get_message_date(service, msg_id):\n",
    "    msg = service.users().messages().get(userId='me', id=msg_id, format='metadata').execute()\n",
    "    headers = msg['payload']['headers']\n",
    "    for header in headers:\n",
    "        if header['name'] == 'Date':\n",
    "            return header['value']\n",
    "    return None"
   ]
  },
  {
   "cell_type": "code",
   "execution_count": 2,
   "id": "9646e190",
   "metadata": {},
   "outputs": [
    {
     "name": "stdout",
     "output_type": "stream",
     "text": [
      "Please visit this URL to authorize this application: https://accounts.google.com/o/oauth2/auth?response_type=code&client_id=628982370333-kkqj66e4850ij5qm0nr2l4b6a514s23e.apps.googleusercontent.com&redirect_uri=http%3A%2F%2Flocalhost%3A8080%2F&scope=https%3A%2F%2Fwww.googleapis.com%2Fauth%2Fgmail.readonly&state=KkTDpnl6HqwXQ02zdQHOkYhdpuOBkN&access_type=offline\n"
     ]
    }
   ],
   "source": [
    "service = authenticate_gmail()"
   ]
  },
  {
   "cell_type": "code",
   "execution_count": 3,
   "id": "caedda3d",
   "metadata": {},
   "outputs": [
    {
     "name": "stdout",
     "output_type": "stream",
     "text": [
      "Found 17 spam messages and 100 ham messages.\n"
     ]
    }
   ],
   "source": [
    "spam = get_messages(service, query='label:SPAM')\n",
    "ham = get_messages(service, query='category:primary -label:SPAM')\n",
    "print(f\"Found {len(spam)} spam messages and {len(ham)} ham messages.\")"
   ]
  },
  {
   "cell_type": "code",
   "execution_count": 12,
   "id": "ddee93a0",
   "metadata": {},
   "outputs": [],
   "source": [
    "spam_content = {}\n",
    "for msg in spam:\n",
    "    msg_id = msg['id']\n",
    "    subject = get_message_subject(service, msg_id)\n",
    "    sender = get_message_sender(service, msg_id)\n",
    "    date = get_message_date(service, msg_id)\n",
    "    content = get_message_content(service, msg_id)\n",
    "    \n",
    "    spam_content[msg_id] = {\n",
    "        'subject': subject,\n",
    "        'sender': sender,\n",
    "        'date': date,\n",
    "        'content': content\n",
    "    }"
   ]
  },
  {
   "cell_type": "code",
   "execution_count": 16,
   "id": "eb44d6c3",
   "metadata": {},
   "outputs": [],
   "source": [
    "ham_content = {}\n",
    "for msg in ham:\n",
    "    msg_id = msg['id']\n",
    "    subject = get_message_subject(service, msg_id)\n",
    "    sender = get_message_sender(service, msg_id)\n",
    "    date = get_message_date(service, msg_id)\n",
    "    content = get_message_content(service, msg_id)\n",
    "    \n",
    "    ham_content[msg_id] = {\n",
    "        'subject': subject,\n",
    "        'sender': sender,\n",
    "        'date': date,\n",
    "        'content': content\n",
    "    }"
   ]
  },
  {
   "cell_type": "code",
   "execution_count": 17,
   "id": "725b2947",
   "metadata": {},
   "outputs": [
    {
     "name": "stdout",
     "output_type": "stream",
     "text": [
      "Spam and ham content saved to 'spam_content.json' and 'ham_content.json'.\n"
     ]
    }
   ],
   "source": [
    "#save the spam and ham content as JSON files\n",
    "import json\n",
    "with open('spam_content.json', 'w') as f:\n",
    "    json.dump(spam_content, f, indent=4)\n",
    "with open('ham_content.json', 'w') as f:\n",
    "    json.dump(ham_content, f, indent=4)\n",
    "print(\"Spam and ham content saved to 'spam_content.json' and 'ham_content.json'.\")"
   ]
  },
  {
   "cell_type": "code",
   "execution_count": 18,
   "id": "299ed184",
   "metadata": {},
   "outputs": [
    {
     "name": "stdout",
     "output_type": "stream",
     "text": [
      "Please visit this URL to authorize this application: https://accounts.google.com/o/oauth2/auth?response_type=code&client_id=628982370333-kkqj66e4850ij5qm0nr2l4b6a514s23e.apps.googleusercontent.com&redirect_uri=http%3A%2F%2Flocalhost%3A8080%2F&scope=https%3A%2F%2Fwww.googleapis.com%2Fauth%2Fgmail.readonly&state=wyyM7IaRx0uigIkmRoIz68jMMYeGVm&access_type=offline\n",
      "Found 17 spam messages and 100 ham messages.\n",
      "Fetched 17 spam messages and 100 ham messages using the fetch_spam_and_ham function.\n"
     ]
    }
   ],
   "source": [
    "from gmail_api import fetch_spam_and_ham\n",
    "# Example usage of the fetch_spam_and_ham function\n",
    "spam, ham = fetch_spam_and_ham(100)\n",
    "print(f\"Fetched {len(spam)} spam messages and {len(ham)} ham messages using the fetch_spam_and_ham function.\")"
   ]
  },
  {
   "cell_type": "code",
   "execution_count": null,
   "id": "994ec8c7",
   "metadata": {},
   "outputs": [],
   "source": []
  }
 ],
 "metadata": {
  "kernelspec": {
   "display_name": "Python 3",
   "language": "python",
   "name": "python3"
  },
  "language_info": {
   "codemirror_mode": {
    "name": "ipython",
    "version": 3
   },
   "file_extension": ".py",
   "mimetype": "text/x-python",
   "name": "python",
   "nbconvert_exporter": "python",
   "pygments_lexer": "ipython3",
   "version": "3.12.4"
  }
 },
 "nbformat": 4,
 "nbformat_minor": 5
}
